{
  "nbformat": 4,
  "nbformat_minor": 0,
  "metadata": {
    "colab": {
      "provenance": [],
      "authorship_tag": "ABX9TyOXrJWCYTv4GwLM2q+3s9qs",
      "include_colab_link": true
    },
    "kernelspec": {
      "name": "python3",
      "display_name": "Python 3"
    },
    "language_info": {
      "name": "python"
    }
  },
  "cells": [
    {
      "cell_type": "markdown",
      "metadata": {
        "id": "view-in-github",
        "colab_type": "text"
      },
      "source": [
        "<a href=\"https://colab.research.google.com/github/ChaeYun430/PythonStudy25/blob/master/exceptionHandling_ipynb%EC%9D%98_%EC%82%AC%EB%B3%B8.ipynb\" target=\"_parent\"><img src=\"https://colab.research.google.com/assets/colab-badge.svg\" alt=\"Open In Colab\"/></a>"
      ]
    },
    {
      "cell_type": "code",
      "execution_count": null,
      "metadata": {
        "id": "wLfFLrwC-LpD"
      },
      "outputs": [],
      "source": [
        "#try 구문 내부에 return, break 키워드를 사용하는 경우 finally의 활용\n",
        "\n",
        "#예외 종류 구분하고 모든 예외 잡기\n",
        "list1 = [10, 20, 30, 40, 50]\n",
        "try :\n",
        "  index_input = int(input('인덱스 입력 : '))\n",
        "  print('{}'.format(index_input), list1[index_input])\n",
        "except ValueError as e :\n",
        "  print(type(e), e)\n",
        "except IndexError as e :\n",
        "  print(type(e), e)\n",
        "except Exception as e :\n",
        "  print(type(e), e)\n",
        "\n",
        "#예외 발생시키기\n",
        "if int(input()) > 0:\n",
        "  raise Exception('10은 0보다 큰 수가 아닙니다.')\n",
        "else:\n",
        "  raise NotImplementedError"
      ]
    }
  ]
}