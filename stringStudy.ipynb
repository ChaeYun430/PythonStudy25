{
  "nbformat": 4,
  "nbformat_minor": 0,
  "metadata": {
    "colab": {
      "provenance": [],
      "authorship_tag": "ABX9TyMcM7RcLxvYiytHs/4I5Qr1",
      "include_colab_link": true
    },
    "kernelspec": {
      "name": "python3",
      "display_name": "Python 3"
    },
    "language_info": {
      "name": "python"
    }
  },
  "cells": [
    {
      "cell_type": "markdown",
      "metadata": {
        "id": "view-in-github",
        "colab_type": "text"
      },
      "source": [
        "<a href=\"https://colab.research.google.com/github/ChaeYun430/PythonStudy25/blob/master/stringStudy.ipynb\" target=\"_parent\"><img src=\"https://colab.research.google.com/assets/colab-badge.svg\" alt=\"Open In Colab\"/></a>"
      ]
    },
    {
      "cell_type": "code",
      "execution_count": null,
      "metadata": {
        "id": "uQex-N2r5Seu"
      },
      "outputs": [],
      "source": [
        "print('작은 따옴표')\n",
        "print(\"큰 따옴표\")\n",
        "print('큰 따옴표를 출력하고 싶으면 \"작은 따옴표로 감싼다.\"!!')\n",
        "print(\"작은 따옴표를 출력하고 싶으면 '큰 따옴표로 감싼다.'!!\")\n",
        "print('\\'escape character을 사용해 작은 따옴표가 나올 거임')\n",
        "print(\"\\\"escape character을 사용해 큰 따옴표가 나올거임\")\n",
        "print('줄바꿈 시작\\n줄바꿈 끝')\n",
        "print('탭 시작\\t탭 끝')\n",
        "print('역슬래시 시작 \\\\역슬래시 끝')\n",
        "print(\"\"\"여러\n",
        "      줄\n",
        "      문자열\n",
        "      만들기\"\"\")\n",
        "print('''\\\n",
        "      줄바꿈\n",
        "      없이\n",
        "      코드를\n",
        "      입력하고\n",
        "      싶어요\\\n",
        "      ''')"
      ]
    },
    {
      "cell_type": "code",
      "source": [
        "#연산자는 특정한 자료의 형태에 종속됨\n",
        "print('문자열 연결은'+'무조건 따옴표')\n",
        "print('숫자도 '+'1 무조건 따옴표')\n",
        "print('문자열 반복 연산자, '*3)\n",
        "print('문자 선택 연산자.. 파이썬은 제로 인덱스'[1])\n",
        "print('음수로 입력하면 뒤에서부터 선택'[-1])"
      ],
      "metadata": {
        "id": "my1J8PkP6gH7"
      },
      "execution_count": null,
      "outputs": []
    }
  ]
}