{
  "nbformat": 4,
  "nbformat_minor": 0,
  "metadata": {
    "colab": {
      "provenance": [],
      "authorship_tag": "ABX9TyNn8KLrXtVyGSJtO7AnFf2Y",
      "include_colab_link": true
    },
    "kernelspec": {
      "name": "python3",
      "display_name": "Python 3"
    },
    "language_info": {
      "name": "python"
    }
  },
  "cells": [
    {
      "cell_type": "markdown",
      "metadata": {
        "id": "view-in-github",
        "colab_type": "text"
      },
      "source": [
        "<a href=\"https://colab.research.google.com/github/ChaeYun430/PythonStudy25/blob/master/conditionals%26loop.ipynb\" target=\"_parent\"><img src=\"https://colab.research.google.com/assets/colab-badge.svg\" alt=\"Open In Colab\"/></a>"
      ]
    },
    {
      "cell_type": "code",
      "execution_count": 3,
      "metadata": {
        "colab": {
          "base_uri": "https://localhost:8080/"
        },
        "id": "T5_zz5aji__2",
        "outputId": "1b8cb196-2b9c-4936-897e-5877cb495d26"
      },
      "outputs": [
        {
          "output_type": "stream",
          "name": "stdout",
          "text": [
            "True\n",
            "True\n"
          ]
        }
      ],
      "source": [
        "#비교, 논리 연산자\n",
        "print('파이썬'=='파이썬')\n",
        "print('가나다'<'기나다')"
      ]
    },
    {
      "cell_type": "code",
      "source": [
        "#시간, 조건문\n",
        "import datetime\n",
        "now = datetime.datetime.now()\n",
        "print('{}년 {}월 {}일 {}시 {}분 {}초'.format(\n",
        "    now.year,\n",
        "    now.month,\n",
        "    now.day,\n",
        "    now.hour,\n",
        "    now.minute,\n",
        "    now.second\n",
        "))\n",
        "if now.hour < 12:\n",
        "  print('if문은 soft tab과 함께 지금은 오전')\n",
        "else:\n",
        "  print('\\기호 쓰고 줄바꿔 명령어 입력 가능하며 지금은 오후')\n",
        "  #위에서 이미 제외된 조건을 한 번 더 검사할 필요는 없다.\n",
        "\n",
        "print('False로 변환되는 값 : None, 0, 0.0, 빈 컨테이너(빈 문자열, 빈 바이트열, 빈 튜플, 빈 딕셔너리)')\n",
        "\n",
        "if len('IndentationError:들여쓰기 잘못됨') > 0:\n",
        "  pass\n",
        "else:\n",
        "  raise NotImplementedError"
      ],
      "metadata": {
        "colab": {
          "base_uri": "https://localhost:8080/"
        },
        "id": "SYNgHilIr2o9",
        "outputId": "2bf32905-71a0-44d5-a6ef-19f8936f9c1e"
      },
      "execution_count": 23,
      "outputs": [
        {
          "output_type": "stream",
          "name": "stdout",
          "text": [
            "2025년 10월 30일 6시 49분 20초\n",
            "if문은 soft tab과 함께 지금은 오전\n",
            "False로 변환되는 값 : None, 0, 0.0, 빈 컨테이너(빈 문자열, 빈 바이트열, 빈 튜플, 빈 딕셔너리)\n"
          ]
        }
      ]
    },
    {
      "cell_type": "code",
      "source": [],
      "metadata": {
        "id": "Lo7QLj2g4MGF"
      },
      "execution_count": null,
      "outputs": []
    }
  ]
}