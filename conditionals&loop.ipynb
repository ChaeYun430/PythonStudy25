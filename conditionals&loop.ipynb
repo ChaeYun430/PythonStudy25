{
  "nbformat": 4,
  "nbformat_minor": 0,
  "metadata": {
    "colab": {
      "provenance": [],
      "authorship_tag": "ABX9TyN3HlvzP6Ooj3amnCHdl1zH",
      "include_colab_link": true
    },
    "kernelspec": {
      "name": "python3",
      "display_name": "Python 3"
    },
    "language_info": {
      "name": "python"
    }
  },
  "cells": [
    {
      "cell_type": "markdown",
      "metadata": {
        "id": "view-in-github",
        "colab_type": "text"
      },
      "source": [
        "<a href=\"https://colab.research.google.com/github/ChaeYun430/PythonStudy25/blob/master/conditionals%26loop.ipynb\" target=\"_parent\"><img src=\"https://colab.research.google.com/assets/colab-badge.svg\" alt=\"Open In Colab\"/></a>"
      ]
    },
    {
      "cell_type": "code",
      "execution_count": null,
      "metadata": {
        "id": "T5_zz5aji__2"
      },
      "outputs": [],
      "source": [
        "#비교, 논리 연산자\n",
        "print('파이썬'=='파이썬')\n",
        "print('가나다'<'기나다')"
      ]
    },
    {
      "cell_type": "code",
      "source": [
        "#시간, 조건문\n",
        "import datetime\n",
        "now = datetime.datetime.now()\n",
        "print('{}년 {}월 {}일 {}시 {}분 {}초'.format(\n",
        "    now.year,\n",
        "    now.month,\n",
        "    now.day,\n",
        "    now.hour,\n",
        "    now.minute,\n",
        "    now.second\n",
        "))\n",
        "if now.hour < 12:\n",
        "  print('if문은 soft tab과 함께 지금은 오전')\n",
        "else:\n",
        "  print('\\기호 쓰고 줄바꿔 명령어 입력 가능하며 지금은 오후')\n",
        "  #위에서 이미 제외된 조건을 한 번 더 검사할 필요는 없다.\n",
        "\n",
        "print('False로 변환되는 값 : None, 0, 0.0, 빈 컨테이너(빈 문자열, 빈 바이트열, 빈 튜플, 빈 딕셔너리)')\n",
        "\n",
        "if len('IndentationError:들여쓰기 잘못됨') > 0:\n",
        "  pass\n",
        "else:\n",
        "  raise NotImplementedError"
      ],
      "metadata": {
        "id": "SYNgHilIr2o9"
      },
      "execution_count": null,
      "outputs": []
    },
    {
      "cell_type": "code",
      "source": [
        "#리스트 자료형\n",
        "list = ['리스트는 여러 자료형으로 구성 가능', True, 1234 ]\n",
        "print(list)\n",
        "list[0] = '리스트의 특정 요소 변경 가능'\n",
        "print(list)\n",
        "list = ['리스트 안에', ['리', '스', '트'], '사용 가능']\n",
        "print(list[1][0], list[2][0:2])"
      ],
      "metadata": {
        "id": "Lo7QLj2g4MGF"
      },
      "execution_count": null,
      "outputs": []
    },
    {
      "cell_type": "markdown",
      "source": [
        "**리스트 연산자와 함수/키워드**\n",
        "* 문자열과 동일하게 +, *, len()을 쓸 수 있고 결합된 값을 반환한다.\n",
        "* 파괴적, 비파괴적 처리를 구분해야 한다.\n",
        "\n",
        "요소 추가\n",
        "* 리스트명.append(요소)\n",
        "* 리스트명.insert(위치, 요소)\n",
        "* 리스트명.extend(리스트)\n",
        "\n",
        "요소 제거\n",
        "* del 리스트명[인덱스]\n",
        "  * 범위 지정 가능\n",
        "* 리스트명.pop(인덱스)\n",
        "  * .pop() == .pop(-1)\n",
        "* 리스트명.remove(값)\n",
        "  * 중복되는 값이라더라도 가장 먼저 발견되는 하나만 제거\n",
        "* 리스트명.clear()\n",
        "\n",
        "값(요소)의 유무 확인\n",
        "* 값 (not) in 리스트명\n"
      ],
      "metadata": {
        "id": "iq-w0WUT6NtW"
      }
    },
    {
      "cell_type": "code",
      "source": [
        "#딕셔너리 자료형\n",
        "dictionary = {\n",
        "    '특징' : '선언과 활용의 형태가 다르다.',\n",
        "    'del' : 'del 딕셔너리명[\"키\"]... 추가는 그냥 키 만들어서 하면 됨',\n",
        "    '.get(\"키\")' : '딕셔너리명[\"키\"]와 같은 역할이지만 없으면 KeyError가 아닌 None을 반환한다.',\n",
        "    'in' : '키가 존재하는지 확인한다.'\n",
        "}\n",
        "if 'in' in dictionary:\n",
        "  for variable in dictionary:\n",
        "   print(variable  + \":\" + dictionary[variable])\n",
        "else:\n",
        "  print('키가 in인게 없다.')"
      ],
      "metadata": {
        "id": "dXRN4D71-_Uu"
      },
      "execution_count": null,
      "outputs": []
    },
    {
      "cell_type": "code",
      "source": [
        "#rage & for & while\n"
      ],
      "metadata": {
        "id": "zH5vBgKWFgaP"
      },
      "execution_count": 32,
      "outputs": []
    },
    {
      "cell_type": "code",
      "source": [
        "#Python스러운 string, list, dictionary 함수\n"
      ],
      "metadata": {
        "id": "XBvJLQUkFy1l"
      },
      "execution_count": null,
      "outputs": []
    }
  ]
}