{
  "nbformat": 4,
  "nbformat_minor": 0,
  "metadata": {
    "colab": {
      "provenance": [],
      "authorship_tag": "ABX9TyOaTZJcFtcNI5Qh5dmRO+1a",
      "include_colab_link": true
    },
    "kernelspec": {
      "name": "python3",
      "display_name": "Python 3"
    },
    "language_info": {
      "name": "python"
    }
  },
  "cells": [
    {
      "cell_type": "markdown",
      "metadata": {
        "id": "view-in-github",
        "colab_type": "text"
      },
      "source": [
        "<a href=\"https://colab.research.google.com/github/ChaeYun430/PythonStudy25/blob/master/dataType.ipynb\" target=\"_parent\"><img src=\"https://colab.research.google.com/assets/colab-badge.svg\" alt=\"Open In Colab\"/></a>"
      ]
    },
    {
      "cell_type": "code",
      "execution_count": null,
      "metadata": {
        "id": "uQex-N2r5Seu"
      },
      "outputs": [],
      "source": [
        "print('작은 따옴표')\n",
        "print(\"큰 따옴표\")\n",
        "print('큰 따옴표를 출력하고 싶으면 \"작은 따옴표로 감싼다.\"!!')\n",
        "print(\"작은 따옴표를 출력하고 싶으면 '큰 따옴표로 감싼다.'!!\")\n",
        "print('\\'escape character을 사용해 작은 따옴표가 나올 거임')\n",
        "print(\"\\\"escape character을 사용해 큰 따옴표가 나올거임\")\n",
        "print('줄바꿈 시작\\n줄바꿈 끝')\n",
        "print('탭 시작\\t탭 끝')\n",
        "print('역슬래시 시작 \\\\역슬래시 끝')\n",
        "print(\"\"\"여러\n",
        "      줄\n",
        "      문자열\n",
        "      만들기\"\"\")\n",
        "print('''\\\n",
        "      줄바꿈\n",
        "      없이\n",
        "      코드를\n",
        "      입력하고\n",
        "      싶어요\\\n",
        "      ''')"
      ]
    },
    {
      "cell_type": "code",
      "source": [
        "#연산자는 특정한 자료의 형태에 종속됨\n",
        "print('문자열 연결은'+'무조건 따옴표')\n",
        "print('숫자도 '+'1 무조건 따옴표')\n",
        "print('문자 뒤에 연산이 하고 싶으면 , 사용',3+1 )\n",
        "print('문자열 반복 연산자, '*3)\n",
        "print('문자 선택 연산자.. 파이썬은 제로 인덱스'[1])\n",
        "print('음수로 입력하면 뒤에서부터 선택'[-1])\n",
        "print('문자열 범위 선택 연산자(슬라이싱)'[-5:-1]+'  마지막 숫자 포함하지 않음')\n",
        "print('숫자 중 하나 생략 가능'[4:])\n",
        "#인덱싱:문자열의 특정 위치에 있는 문자를 참조하는 것\n",
        "#슬라이싱:문자열의 일부를 추출하는 것\n",
        "print(len('문자열의 길이 구하기'))"
      ],
      "metadata": {
        "id": "my1J8PkP6gH7"
      },
      "execution_count": null,
      "outputs": []
    },
    {
      "cell_type": "code",
      "source": [
        "print(type(1234))\n",
        "print(type(1234.1234))\n",
        "#부동 소수점은 지수승으로 표현\n",
        "print(0.12345e2)\n",
        "print(0.12345e-2)\n",
        "#자바와 상이한 나누기\n",
        "print('3/2 =',3/2)\n",
        "print('정수부분 3//2 =',3//2)\n",
        "print('소수부분 6%4 =', 6%4)\n",
        "print('제곱 연산자 2**3 =', 2**3)\n",
        "#문자열에도 연산자 우선순위는 적용된다."
      ],
      "metadata": {
        "id": "pDD1m9GaByyi"
      },
      "execution_count": null,
      "outputs": []
    },
    {
      "cell_type": "markdown",
      "source": [
        "Q: 파이썬도 자바와 동일하게 변수 선언만 해도 되는가\\\n",
        "A: 값을 안 주면 사용할 수 없고, 필요하면 None으로 초기화\n",
        "\n",
        "L-value = 좌측에 올 수 있는 것(복합 대입 연산자 관련)\n",
        "* 변수, 리스트/딕셔너리 요소, 객체 속성이 대표적\n",
        "* 계산식, 상수, 리터럴 등은 불가"
      ],
      "metadata": {
        "id": "QlVHZBRiHkos"
      }
    },
    {
      "cell_type": "code",
      "source": [
        "input('사용자에게 자료 입력을 요구하면서 코드  진행을 블록하고 있다.>>')"
      ],
      "metadata": {
        "id": "n6vkEfa3M-_D"
      },
      "execution_count": null,
      "outputs": []
    },
    {
      "cell_type": "code",
      "source": [
        "inputValue = input('변수에 대입할 값은 입력하세요.>>')\n",
        "print(inputValue)\n",
        "#input() 함수는  사용자의 입력값에 상관없이 무조건 문자열 자료형이 반환된다."
      ],
      "metadata": {
        "id": "4MwnKLIxOLwj"
      },
      "execution_count": null,
      "outputs": []
    },
    {
      "cell_type": "code",
      "source": [
        "#문자열을 숫자로\n",
        "print(type(int('1234')))\n",
        "print(type(float('1234.1234')))\n",
        "#숫자를 문자열로\n",
        "print(type(str(1234)))"
      ],
      "metadata": {
        "id": "wkaiQz_-O25K"
      },
      "execution_count": null,
      "outputs": []
    },
    {
      "cell_type": "code",
      "source": [
        "#{}기호를 format의 괄호 안에 있는 매개변수로 대체함\n",
        "#매개변수가 {}기호보다 많은 경우 나머지 매개변수는 버려지나 반대의 경우 에러 발생\n",
        "print('{}{}{}'.format(1,2,3,4))\n",
        "#반환값은 문자열이지만 타입 지정시 매개변수의 타입을 맞춰줘야 함.\n",
        "print('{:d}'.format(3))\n",
        "#칸 개수를 뒤에서부터 채운다.\n",
        "#부호는 칸 수 앞에 배치한다.\n",
        "print('{:f}'.format(123.456)) #기본 출력 형식: 소수점 6자리까지 표시\n",
        "print('{:15.2f}'.format(123.456)) #소수점 아래 자릿수 지정하기\n",
        "print('{:g}'.format(123.00)) #의미없는 소수점 제거하기"
      ],
      "metadata": {
        "id": "jgh14BQpP5az"
      },
      "execution_count": null,
      "outputs": []
    },
    {
      "cell_type": "code",
      "source": [
        "print('abcd'.upper()+' 비파괴적 함수 '+'ABCD'.lower())\n",
        "print(' 공백(띄어쓰기, 탭, 줄바꿈) '.strip() + ' 오른쪽 공백 '.rstrip() + ' 왼쪽 공백 '.lstrip())\n",
        "print('문자열의 구성 파악'.isalnum())\n",
        "print('처음 등장하는 위치는'.find('등장'))\n",
        "print('문자열' in '안에 문자열이 있는가')\n",
        "print('괄호 안의 문자열을 기준으로 자르고 실행 결과는 리스트다.'.split(\" \"))"
      ],
      "metadata": {
        "id": "qQpwtZvvep8V"
      },
      "execution_count": null,
      "outputs": []
    }
  ]
}