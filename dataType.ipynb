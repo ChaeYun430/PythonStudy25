{
  "nbformat": 4,
  "nbformat_minor": 0,
  "metadata": {
    "colab": {
      "provenance": [],
      "authorship_tag": "ABX9TyNcC6KzkzYsJvHpwjPs3PmD",
      "include_colab_link": true
    },
    "kernelspec": {
      "name": "python3",
      "display_name": "Python 3"
    },
    "language_info": {
      "name": "python"
    }
  },
  "cells": [
    {
      "cell_type": "markdown",
      "metadata": {
        "id": "view-in-github",
        "colab_type": "text"
      },
      "source": [
        "<a href=\"https://colab.research.google.com/github/ChaeYun430/PythonStudy25/blob/master/dataType.ipynb\" target=\"_parent\"><img src=\"https://colab.research.google.com/assets/colab-badge.svg\" alt=\"Open In Colab\"/></a>"
      ]
    },
    {
      "cell_type": "code",
      "execution_count": null,
      "metadata": {
        "id": "uQex-N2r5Seu"
      },
      "outputs": [],
      "source": [
        "print('작은 따옴표')\n",
        "print(\"큰 따옴표\")\n",
        "print('큰 따옴표를 출력하고 싶으면 \"작은 따옴표로 감싼다.\"!!')\n",
        "print(\"작은 따옴표를 출력하고 싶으면 '큰 따옴표로 감싼다.'!!\")\n",
        "print('\\'escape character을 사용해 작은 따옴표가 나올 거임')\n",
        "print(\"\\\"escape character을 사용해 큰 따옴표가 나올거임\")\n",
        "print('줄바꿈 시작\\n줄바꿈 끝')\n",
        "print('탭 시작\\t탭 끝')\n",
        "print('역슬래시 시작 \\\\역슬래시 끝')\n",
        "print(\"\"\"여러\n",
        "      줄\n",
        "      문자열\n",
        "      만들기\"\"\")\n",
        "print('''\\\n",
        "      줄바꿈\n",
        "      없이\n",
        "      코드를\n",
        "      입력하고\n",
        "      싶어요\\\n",
        "      ''')"
      ]
    },
    {
      "cell_type": "code",
      "source": [
        "#연산자는 특정한 자료의 형태에 종속됨\n",
        "print('문자열 연결은'+'무조건 따옴표')\n",
        "print('숫자도 '+'1 무조건 따옴표')\n",
        "print('문자 뒤에 연산이 하고 싶으면 , 사용',3+1 )\n",
        "print('문자열 반복 연산자, '*3)\n",
        "print('문자 선택 연산자.. 파이썬은 제로 인덱스'[1])\n",
        "print('음수로 입력하면 뒤에서부터 선택'[-1])\n",
        "print('문자열 범위 선택 연산자(슬라이싱)'[-5:-1]+'  마지막 숫자 포함하지 않음')\n",
        "print('숫자 중 하나 생략 가능'[4:])\n",
        "#인덱싱:문자열의 특정 위치에 있는 문자를 참조하는 것\n",
        "#슬라이싱:문자열의 일부를 추출하는 것\n",
        "print(len('문자열의 길이 구하기'))"
      ],
      "metadata": {
        "id": "my1J8PkP6gH7"
      },
      "execution_count": null,
      "outputs": []
    },
    {
      "cell_type": "code",
      "source": [
        "print(type(1234))\n",
        "print(type(1234.1234))\n",
        "#부동 소수점은 지수승으로 표현\n",
        "print(0.12345e2)\n",
        "print(0.12345e-2)\n",
        "#자바와 상이한 나누기\n",
        "print('3/2 =',3/2)\n",
        "print('정수부분 3//2 =',3//2)\n",
        "print('소수부분 6%4 =', 6%4)\n",
        "print('제곱 연산자 2**3 =', 2**3)\n",
        "#문자열에도 연산자 우선순위는 적용된다."
      ],
      "metadata": {
        "id": "pDD1m9GaByyi"
      },
      "execution_count": null,
      "outputs": []
    }
  ]
}